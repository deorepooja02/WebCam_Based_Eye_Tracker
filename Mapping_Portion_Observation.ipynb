{
 "cells": [
  {
   "cell_type": "code",
   "execution_count": null,
   "id": "e41f8e21",
   "metadata": {},
   "outputs": [],
   "source": [
    "## mapping of the portions of the screen that have been observed, producing a heatmap as output\n",
    "\n",
    "import plotly.express as px\n",
    "from dash import Dash, dcc, html, Input, Output\n",
    "import numpy as np\n",
    "import pandas as pd\n",
    "\n",
    "#creating data\n",
    "arr = np.random.rand(408, 408)\n",
    "x_labels = list(range(-204, 204))\n",
    "y_labels = list(reversed(range(-204, 204)))\n",
    "\n",
    "#Converted to dataframe\n",
    "df_data = pd.DataFrame(arr,index =y_labels, columns = [x_labels] )\n",
    "\n",
    "app = Dash(__name__)\n",
    "\n",
    "#How many items to show at a time\n",
    "show_item_limit = 20\n",
    "\n",
    "app.layout = html.Div([\n",
    "    html.H4('Range'),\n",
    "    dcc.Graph(id=\"graph\"),\n",
    "    html.P(\"Select range\"),\n",
    "    dcc.Slider(\n",
    "        min = 0,\n",
    "        max = 408-show_item_limit, \n",
    "        step = show_item_limit,\n",
    "        value = 0,\n",
    "        id= 'my-slider'\n",
    "    ),\n",
    "])\n",
    "\n",
    "\n",
    "@app.callback(\n",
    "    Output(\"graph\", \"figure\"), \n",
    "    Input(\"my-slider\", \"value\"))\n",
    "\n",
    "def filter_heatmap(selected_value):\n",
    "    # Selected value will be passed from Slider\n",
    "    df = df_data # replace with your own data source\n",
    "    #We can filter the data here\n",
    "    filtered_df = df_data.iloc[selected_value:selected_value+show_item_limit,range(selected_value,selected_value+show_item_limit)]\n",
    "    #Update using plotly \n",
    "    fig = px.imshow(filtered_df,\n",
    "                text_auto=True, \n",
    "                labels=dict(x=\"X-range\", y=\"y-range\"),\n",
    "                x = filtered_df.columns,\n",
    "                y = filtered_df.index\n",
    "                )\n",
    "    return fig\n",
    "app.run_server(debug=True)\n"
   ]
  }
 ],
 "metadata": {
  "kernelspec": {
   "display_name": "Python 3 (ipykernel)",
   "language": "python",
   "name": "python3"
  },
  "language_info": {
   "codemirror_mode": {
    "name": "ipython",
    "version": 3
   },
   "file_extension": ".py",
   "mimetype": "text/x-python",
   "name": "python",
   "nbconvert_exporter": "python",
   "pygments_lexer": "ipython3",
   "version": "3.9.13"
  }
 },
 "nbformat": 4,
 "nbformat_minor": 5
}
